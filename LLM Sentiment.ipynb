{
  "nbformat": 4,
  "nbformat_minor": 0,
  "metadata": {
    "colab": {
      "provenance": [],
      "gpuType": "T4"
    },
    "kernelspec": {
      "name": "python3",
      "display_name": "Python 3"
    },
    "language_info": {
      "name": "python"
    }
  },
  "cells": [
    {
      "cell_type": "code",
      "source": [
        "import os\n",
        "os.environ['GROQ_API_KEY'] = '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'\n"
      ],
      "metadata": {
        "id": "GU_H5Zapm2RZ"
      },
      "execution_count": 4,
      "outputs": []
    },
    {
      "cell_type": "code",
      "source": [
        "import requests\n",
        "import json\n",
        "import pandas as pd\n",
        "import groq\n",
        "import os\n",
        "import time\n",
        "from tqdm import tqdm\n",
        "\n",
        "# API Client for Groq\n",
        "client = groq.Groq(\n",
        "    api_key=os.environ.get('GROQ_API_KEY')  # Make sure this is set\n",
        ")\n",
        "\n",
        "# Load your data\n",
        "df = pd.read_csv('/content/MLSentiment.csv')\n",
        "\n",
        "# Combine title and text\n",
        "df['combined'] = df['title'].fillna('') + \" \" + df['text'].fillna('')\n",
        "\n",
        "# Stance categories\n",
        "stance_categories = [\"Oppose\", \"Neutral\", \"Approve\", \"Irrelevant\"]\n",
        "\n",
        "# Prompt creator\n",
        "def create_prompt(post_text):\n",
        "    return (\n",
        "        f\"Given the following Reddit post, classify the stance in response to the question: \"\n",
        "        f\"'How did Reddit portray the US in Ukraine before and after the Trump-Zelensky White House Confrontation?'\\n\\n\"\n",
        "        f\"Post: {post_text}\\n\\n\"\n",
        "        f\"Answer the stance in one word: {', '.join(stance_categories)}\"\n",
        "    )\n",
        "\n",
        "# LLM prediction function\n",
        "def get_stance_prediction(post_text):\n",
        "    time.sleep(1)  # Optional: prevent rate-limiting\n",
        "    prompt = create_prompt(post_text)\n",
        "\n",
        "    chat_completion = client.chat.completions.create(\n",
        "        messages=[\n",
        "            {\"role\": \"system\", \"content\": \"You are a helpful assistant.\"},\n",
        "            {\"role\": \"user\", \"content\": prompt}\n",
        "        ],\n",
        "        model=\"gemma2-9b-it\"\n",
        "    )\n",
        "\n",
        "    return chat_completion.choices[0].message.content.strip()\n",
        "\n",
        "# Apply prediction with progress bar\n",
        "tqdm.pandas(desc=\"Classifying stances\")\n",
        "df['stance_predictions'] = df['combined'].progress_apply(get_stance_prediction)\n",
        "\n",
        "# Final output\n",
        "print(df[['title', 'text', 'stance_predictions']])\n"
      ],
      "metadata": {
        "colab": {
          "base_uri": "https://localhost:8080/"
        },
        "id": "C-9veagVgtID",
        "outputId": "56ff50e5-2faf-4b3d-9ada-f332387119ab"
      },
      "execution_count": 8,
      "outputs": [
        {
          "output_type": "stream",
          "name": "stderr",
          "text": [
            "Classifying stances: 100%|██████████| 310/310 [59:02<00:00, 11.43s/it]"
          ]
        },
        {
          "output_type": "stream",
          "name": "stdout",
          "text": [
            "                                                 title text  \\\n",
            "0    Tens of thousands of anti-government protester...  NaN   \n",
            "1     This is Poland film about Poland from year 1940.  NaN   \n",
            "2    Rally in Srpska: We came to defend the preside...  NaN   \n",
            "3    The grants and loans given to Ukraine by diffe...  NaN   \n",
            "4    \u001cYou can\u0019t insult the country that protects yo...  NaN   \n",
            "..                                                 ...  ...   \n",
            "305  RU POV: Drone ignored civilians and seeked mil...  NaN   \n",
            "306  RU POV: President Putin \"The European politici...  NaN   \n",
            "307  Ru POV: S-300 gets destroyed by a Iskander mis...  NaN   \n",
            "308  Ru pov:A bunch of photos of a Russian soldier ...  NaN   \n",
            "309  Ru pov:footage of ammunition delivery to the f...  NaN   \n",
            "\n",
            "                                    stance_predictions  \n",
            "0                                           Irrelevant  \n",
            "1                                           Irrelevant  \n",
            "2                                           Irrelevant  \n",
            "3    Irrelevant \\n\\n**Reason:** The post focuses on...  \n",
            "4                                           Irrelevant  \n",
            "..                                                 ...  \n",
            "305                                         Irrelevant  \n",
            "306  Irrelevant \\n\\nThough the post discusses tensi...  \n",
            "307                                         Irrelevant  \n",
            "308                                         Irrelevant  \n",
            "309                                         Irrelevant  \n",
            "\n",
            "[310 rows x 3 columns]\n"
          ]
        },
        {
          "output_type": "stream",
          "name": "stderr",
          "text": [
            "\n"
          ]
        }
      ]
    },
    {
      "cell_type": "code",
      "source": [
        "df.to_csv('LLM_Stance.csv', index=False)"
      ],
      "metadata": {
        "id": "qrZPPfl6tvy1"
      },
      "execution_count": 9,
      "outputs": []
    }
  ]
}